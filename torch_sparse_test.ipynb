{
 "cells": [
  {
   "cell_type": "code",
   "execution_count": 1,
   "id": "d6affdc1",
   "metadata": {},
   "outputs": [
    {
     "name": "stdout",
     "output_type": "stream",
     "text": [
      "2.5.0a0+gita8d6afb\n",
      "/home/super/anaconda3/envs/skjdeep_sp/lib/python3.13/site-packages/torch/__init__.py\n"
     ]
    }
   ],
   "source": [
    "import torch\n",
    "\n",
    "print(torch.__version__)\n",
    "print(torch.__file__)"
   ]
  },
  {
   "cell_type": "code",
   "execution_count": 2,
   "id": "411df3f8",
   "metadata": {},
   "outputs": [
    {
     "name": "stdout",
     "output_type": "stream",
     "text": [
      "tensor([ 1.0000, -0.5000], device='cuda:0')\n"
     ]
    },
    {
     "name": "stderr",
     "output_type": "stream",
     "text": [
      "/tmp/ipykernel_210673/3174873004.py:2: UserWarning: Sparse CSR tensor support is in beta state. If you miss a functionality in the sparse tensor support, please submit a feature request to https://github.com/pytorch/pytorch/issues. (Triggered internally at /home/super/skj/pytorch/aten/src/ATen/SparseCsrTensorImpl.cpp:53.)\n",
      "  A = torch.tensor([[3.0,2.0],[1.0,2.0]], device=\"cuda\").to_sparse_csr()\n"
     ]
    }
   ],
   "source": [
    "# GPU sparse solve 테스트\n",
    "A = torch.tensor([[3.0,2.0],[1.0,2.0]], device=\"cuda\").to_sparse_csr()\n",
    "b = torch.tensor([2.0,0.0], device=\"cuda\")\n",
    "x = torch.sparse.spsolve(A, b)\n",
    "print(x)"
   ]
  }
 ],
 "metadata": {
  "kernelspec": {
   "display_name": "skjdeep_sp",
   "language": "python",
   "name": "python3"
  },
  "language_info": {
   "codemirror_mode": {
    "name": "ipython",
    "version": 3
   },
   "file_extension": ".py",
   "mimetype": "text/x-python",
   "name": "python",
   "nbconvert_exporter": "python",
   "pygments_lexer": "ipython3",
   "version": "3.13.5"
  }
 },
 "nbformat": 4,
 "nbformat_minor": 5
}
